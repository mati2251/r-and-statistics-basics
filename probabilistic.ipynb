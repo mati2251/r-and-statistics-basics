{
 "cells": [
  {
   "cell_type": "markdown",
   "source": [
    "# Descriptive statistics\n",
    "## Location summary (miary rozkładu)\n",
    "### Average (średnia)\n",
    "###### EN\n",
    "Average is the most common measure of central tendency. It is the sum of all the values divided by the number of values. It is also called the mean. The average is a good measure of central tendency when the data is symmetrical. It is not a good measure of central tendency when the data is skewed. The average is also affected by outliers.\n",
    "###### PL\n",
    "Średnia jest najczęściej używaną miarą miarami tendencji centralnej. Jest to suma wszystkich wartości podzielona przez liczbę wartości. Nazywana jest również średnią arytmetyczną. Średnia jest dobrym wskaźnikiem miarami tendencji centralnej, gdy dane są symetryczne. Nie jest dobrym wskaźnikiem miarami tendencji centralnej, gdy dane są skośne. Średnia jest również wpływana przez wartości odstające.\n",
    "\\begin{equation}\n",
    "\\bar{x} = \\frac{\\sum_{i=1}^{n} x_i}{n}\n",
    "\\end{equation}\n",
    "\\begin{equation}\n",
    "\\bar{x} \\text{ - average in sample}\n",
    "\\end{equation}\n",
    "\\begin{equation}\n",
    "\\mu\\text{ - average in population}\n",
    "\\end{equation}\n"
   ],
   "metadata": {
    "collapsed": false
   }
  },
  {
   "cell_type": "code",
   "execution_count": 1,
   "outputs": [
    {
     "name": "stdout",
     "output_type": "stream",
     "text": [
      "[1] \"Average calculated by build function  5.5\"\n",
      "[1] \"Average calculated without build function mean  14.0909090909091\"\n"
     ]
    }
   ],
   "source": [
    "data <- c(1,2,3,4,5,6,7,8,9,10)\n",
    "data2 <- c(1,2,3,4,5,6,7,8,9,10,100)\n",
    "print(paste(\"Average calculated by build function \", mean(data)))\n",
    "print(paste(\"Average calculated without build function mean \", sum(data2)/length(data2)))"
   ],
   "metadata": {
    "collapsed": false
   }
  },
  {
   "cell_type": "markdown",
   "source": [
    "### Truncated mean(średnia ucinana)\n",
    "###### EN\n",
    "This is the arithmetic mean that is calculated after truncate outlier data.\n",
    "###### PL\n",
    "Jest to średnia arytmetyczna, która jest obliczana po usunięciu największej i najmniejszej wartości.\n",
    "\\begin{equation}\n",
    "\\bar{x} = \\frac{1}{n-2k}\\sum_{i=k+1}^{n-k} x_i\n",
    "\\end{equation}\n"
   ],
   "metadata": {
    "collapsed": false
   }
  },
  {
   "cell_type": "code",
   "execution_count": 2,
   "outputs": [
    {
     "name": "stdout",
     "output_type": "stream",
     "text": [
      "[1] \"Truncated mean calculated:  6\"\n"
     ]
    }
   ],
   "source": [
    "truncated_mean <- function(x, k = 0.1) {\n",
    "  x <- sort(x)\n",
    "  n <- length(x)\n",
    "  k <- floor(k * n)\n",
    "  mean(x[(k + 1):(n - k)])\n",
    "}\n",
    "data <- c(1,2,3,4,5,6,7,8,9,10,100)\n",
    "print(paste(\"Truncated mean calculated: \", truncated_mean(data)))"
   ],
   "metadata": {
    "collapsed": false
   }
  },
  {
   "cell_type": "markdown",
   "source": [
    "### Harmonic mean(średnia harmoniczna)\n",
    "###### EN\n",
    "It is used for sets of numbers that represent proportions.\n",
    "###### PL\n",
    "Jest używana dla zbiorów liczb, które reprezentują proporcje.\n",
    "\\begin{equation}\n",
    "\\bar{x} =\\frac{n}{\\sum_{i=1}^{n} \\frac{1}{x_i}}\n",
    "\\end{equation}\n"
   ],
   "metadata": {
    "collapsed": false
   }
  },
  {
   "cell_type": "code",
   "execution_count": 3,
   "outputs": [
    {
     "name": "stdout",
     "output_type": "stream",
     "text": [
      "[1] \"Harmonic mean:  31.1688311688312\"\n"
     ]
    }
   ],
   "source": [
    "harmonic_mean <- function(x) {\n",
    "  1 / mean(1 / x)\n",
    "}\n",
    "data <- c(20,30,40,50)\n",
    "print(paste(\"Harmonic mean: \", harmonic_mean(data)))"
   ],
   "metadata": {
    "collapsed": false
   }
  },
  {
   "cell_type": "markdown",
   "source": [
    "### Geometric mean(średnia geometryczna)\n",
    "###### EN\n",
    "Applies to the average rate of change of data\n",
    "###### PL\n",
    "Stosuje się do średniego tempa zmian danych\n",
    "\\begin{equation}\n",
    "\\bar{x}_G =\\sqrt[n]{x_1x_2x_3...x_n}\n",
    "\\end{equation}"
   ],
   "metadata": {
    "collapsed": false
   }
  },
  {
   "cell_type": "code",
   "execution_count": 15,
   "outputs": [
    {
     "name": "stdout",
     "output_type": "stream",
     "text": [
      "[1] \"Geometric mean:  6.00012469087109\"\n"
     ]
    }
   ],
   "source": [
    "geometric_mean <- function(x) {\n",
    "  prod(x) ^ (1 / length(x))\n",
    "}\n",
    "data <- c(1,2,3,4,5,6,7,8,9,10,100)\n",
    "print(paste(\"Geometric mean: \", geometric_mean(data)))"
   ],
   "metadata": {
    "collapsed": false
   }
  },
  {
   "cell_type": "markdown",
   "source": [
    "### Gap(rozstęp)\n",
    "##### EN\n",
    "Gap is the difference between the largest and smallest values in a data set.\n",
    "##### PL\n",
    "Rozstęp to różnica między największą a najmniejszą wartością w zbiorze danych."
   ],
   "metadata": {
    "collapsed": false
   }
  },
  {
   "cell_type": "code",
   "execution_count": null,
   "outputs": [],
   "source": [
    "data <- c(1,2,3,4,5,6,7,8,9,10)\n",
    "gap <- function(x) {\n",
    "  max(x) - min(x)\n",
    "}\n",
    "gap(data)"
   ],
   "metadata": {
    "collapsed": false
   }
  },
  {
   "cell_type": "markdown",
   "source": [
    "### Median(mediana)\n",
    "###### EN\n",
    "Median is the middle value of a data set. It is the value that divides the data set into two equal parts. The median is a good measure of central tendency when the data is skewed. The median is not affected by outliers.\n",
    "###### PL\n",
    "Mediana jest środkową wartością zbioru danych. Jest to wartość, która dzieli zbiór danych na dwie równe części. Mediana jest dobrym wskaźnikiem miarami tendencji centralnej, gdy dane są skośne. Wartości odstające nie wpływają na medianę."
   ],
   "metadata": {
    "collapsed": false
   }
  },
  {
   "cell_type": "code",
   "execution_count": 5,
   "outputs": [
    {
     "name": "stdout",
     "output_type": "stream",
     "text": [
      "[1] \"Median calculated by build function normal data  6\"\n",
      "[1] \"Median calculated by build function data with outliers  6\"\n"
     ]
    }
   ],
   "source": [
    "data <- c(1,2,3,4,5,6,7,8,9,10)\n",
    "data <- c(1,2,3,4,5,6,7,8,9,10,100)\n",
    "print(paste(\"Median calculated by build function normal data \", median(data)))\n",
    "print(paste(\"Median calculated by build function data with outliers \", median(data2)))"
   ],
   "metadata": {
    "collapsed": false
   }
  },
  {
   "cell_type": "markdown",
   "source": [
    "### Mode (dominanta)\n",
    "###### EN\n",
    "Mode is the most common value in a data set.\n",
    "###### PL\n",
    "Moda jest najczęściej występującą wartością w zbiorze danych."
   ],
   "metadata": {
    "collapsed": false
   }
  },
  {
   "cell_type": "code",
   "execution_count": 6,
   "outputs": [
    {
     "name": "stdout",
     "output_type": "stream",
     "text": [
      "[1] \"Mode:  100\"\n"
     ]
    }
   ],
   "source": [
    "mode <- function(x) {\n",
    "  ux <- unique(x)\n",
    "  tab <- tabulate(match(x, ux))\n",
    "  ux[tab == max(tab)]\n",
    "}\n",
    "data <- c(1,2,3,4,5,6,7,8,9,10,100,100,100,100,10)\n",
    "print(paste(\"Mode: \", mode(data)))"
   ],
   "metadata": {
    "collapsed": false
   }
  },
  {
   "cell_type": "markdown",
   "source": [
    "### Quantile (kwantyl)\n",
    "###### EN\n",
    "Quantile is a value that divides the data set into equal parts. For example, the median is the 50th percentile.\n",
    "###### PL\n",
    "Kwantyl jest wartością, która dzieli zbiór danych na równe części. Na przykład mediana jest 50. percentylem.\n",
    "#### IQR (Interquartile range)\n",
    "###### EN\n",
    "The interquartile range is the difference between the 1th and 3th quartile.\n",
    "###### PL\n",
    "Zakres międzykwartylowy to różnica między 1 kwartylem a 3 kwartylem."
   ],
   "metadata": {
    "collapsed": false
   }
  },
  {
   "cell_type": "code",
   "execution_count": 7,
   "outputs": [
    {
     "name": "stdout",
     "output_type": "stream",
     "text": [
      "[1] \"IQR:  50.5\"\n"
     ]
    }
   ],
   "source": [
    "data <- c(1,2,3,4,5,6,7,8,9,10,100,100,100,100,10)\n",
    "summ <- summary(data)\n",
    "iqr <- summ[[5]] - summ[[2]]\n",
    "print(paste(\"IQR: \", iqr))"
   ],
   "metadata": {
    "collapsed": false
   }
  },
  {
   "cell_type": "markdown",
   "source": [
    "## Dispersion summary (miary zmienności)\n",
    "### Variance (wariancja)\n",
    "###### EN\n",
    "Variance is the average of the squared differences from the mean.\n",
    "###### PL\n",
    "Wariancja jest średnią z kwadratów różnic od średniej.\n",
    "Wariacja w próbce\n",
    "\\begin{equation}\n",
    "\\sigma^2 = \\frac{\\sum_{i=1}^{n} (x_i - \\bar{x})^2}{n - 1}\n",
    "\\end{equation}\n",
    "Wariacja w populacji\n",
    "\\begin{equation}\n",
    "\\sigma^2 = \\frac{\\sum_{i=1}^{n} (x_i - \\bar{x})^2}{n}\n",
    "\\end{equation}\n"
   ],
   "metadata": {
    "collapsed": false
   }
  },
  {
   "cell_type": "code",
   "execution_count": 8,
   "outputs": [
    {
     "name": "stdout",
     "output_type": "stream",
     "text": [
      "[1] \"Variance sample:  820.090909090909\"\n",
      "[1] \"Variance population:  745.537190082645\"\n",
      "[1] \"Variance sample calculated by build function:  820.090909090909\"\n",
      "[1] \"Variance population calculated by build function:  745.537190082645\"\n"
     ]
    }
   ],
   "source": [
    "data <- c(1,2,3,4,5,6,7,8,9,10,100)\n",
    "variance_sample <- function(x) {\n",
    "  sum((x-mean(x))^2)/(length(x)-1)\n",
    "}\n",
    "variance_population <- function(x) {\n",
    "  sum((x-mean(x))^2)/(length(x))\n",
    "}\n",
    "print(paste(\"Variance sample: \", variance_sample(data)))\n",
    "print(paste(\"Variance population: \", variance_population(data)))\n",
    "print(paste(\"Variance sample calculated by build function: \", var(data)))\n",
    "print(paste(\"Variance population calculated by build function: \", var(data)/(length(data)/(length(data)-1))))"
   ],
   "metadata": {
    "collapsed": false
   }
  },
  {
   "cell_type": "markdown",
   "source": [
    "### Standard deviation (odchylenie standardowe)\n",
    "###### EN\n",
    "Standard deviation is a measure of how spread out numbers are.\n",
    "###### PL\n",
    "Odchylenie standardowe jest miarą, jak bardzo rozproszone są liczby.\n",
    "\\begin{equation}\n",
    "\\sigma = \\sqrt{\\frac{\\sum_{i=1}^{n} (x_i - \\bar{x})^2}{n - 1}}\n",
    "\\end{equation}"
   ],
   "metadata": {
    "collapsed": false
   }
  },
  {
   "cell_type": "code",
   "execution_count": 9,
   "outputs": [
    {
     "name": "stdout",
     "output_type": "stream",
     "text": [
      "[1] \"Standard deviation data1:  0\"\n",
      "[1] \"Standard deviation data2 calculated by build function:  1.62018517460197\"\n",
      "[1] \"Standard deviation data3:  1.22474487139159\"\n",
      "[1] \"Standard deviation data4:  2\"\n"
     ]
    }
   ],
   "source": [
    "standard_deviation <- function(x) {\n",
    "  sqrt(var(x))\n",
    "}\n",
    "data <- list( c(0, 0, 0, 0, 0, 0, 0, 0, 0, 0, 0, 0, 0, 0, 0, 0, 0),\n",
    "c(-2, -2, -2, -2, -2, -1, 0, 0, 0, 0, 0, 1, 2, 2, 2, 2, 2),\n",
    "c(-2, -2, 1, 1, 1, 1, 0, 0, 0, 0, 0, -1, -1, -1, -1, 2, 2),\n",
    "c(-4, -3, -2, -1, -1, -1, 0, 0, 0, 0, 0, 1, 1, 1, 2, 3, 4))\n",
    "print(paste(\"Standard deviation data1: \", standard_deviation(data[[1]])))\n",
    "print(paste(\"Standard deviation data2 calculated by build function: \", sd(data[[2]])))\n",
    "print(paste(\"Standard deviation data3: \", sd(data[[3]])))\n",
    "print(paste(\"Standard deviation data4: \", sd(data[[4]])))"
   ],
   "metadata": {
    "collapsed": false
   }
  },
  {
   "cell_type": "code",
   "execution_count": 10,
   "outputs": [
    {
     "data": {
      "text/plain": "Plot with title “data 4”",
      "image/png": "[encoded data removed]"
     },
     "metadata": {
      "image/png": {
       "width": 420,
       "height": 420
      }
     },
     "output_type": "display_data"
    }
   ],
   "source": [
    "par(mfrow=c(2,2))\n",
    "barplot(table(data[[1]]), main=\"data 1\")\n",
    "barplot(table(data[[2]]), main=\"data 2\")\n",
    "barplot(table(data[[3]]), main=\"data 3\")\n",
    "barplot(table(data[[4]]), main=\"data 4\")"
   ],
   "metadata": {
    "collapsed": false
   }
  },
  {
   "cell_type": "markdown",
   "source": [
    "### Coefficient of variation (współczynnik zmienności)\n",
    "###### EN\n",
    "Coefficient of variation is a measure of the relative variability of a data set.\n",
    "###### PL\n",
    "Współczynnik zmienności jest miarą względnej zmienności zbioru danych.\n",
    "\\begin{equation}\n",
    "V_ = \\frac{\\sigma}{\\bar{x}}\n",
    "\\end{equation}"
   ],
   "metadata": {
    "collapsed": false
   }
  },
  {
   "cell_type": "code",
   "execution_count": 11,
   "outputs": [
    {
     "name": "stdout",
     "output_type": "stream",
     "text": [
      "[1] \"Coefficient of variation:  2.73716340251427\"\n"
     ]
    }
   ],
   "source": [
    "coefficient_of_variation <- function(x) {\n",
    "  sd(x)/mean(x)\n",
    "}\n",
    "data <- c(-2, -2 -1, 1, 2, 2, 2, 2, 2)\n",
    "print(paste(\"Coefficient of variation: \", coefficient_of_variation(data)))\n",
    "# Avaliable in EnvStats package\n",
    "# print(paste(\"Coefficient of variation calculated by build function: \", cv(data)))"
   ],
   "metadata": {
    "collapsed": false
   }
  },
  {
   "cell_type": "markdown",
   "source": [
    "### Skewness (skośność)\n",
    "###### EN\n",
    "Skewness is a measure of the asymmetry\n",
    "###### PL\n",
    "Skośność jest miarą asymetrii\n",
    "\\begin{equation}\n",
    "g_1 = \\frac{\\sum_{i=1}^{n} (x_i - \\bar{x})^3}{n \\sigma^3}\n",
    "\\end{equation}\n"
   ],
   "metadata": {
    "collapsed": false
   }
  },
  {
   "cell_type": "code",
   "execution_count": 12,
   "outputs": [
    {
     "name": "stdout",
     "output_type": "stream",
     "text": [
      "[1] \"Skewness:  -0.76828778969661\"\n"
     ]
    }
   ],
   "source": [
    "central_moment <- function(x, k) {\n",
    "  mean((x-mean(x))^k)\n",
    "}\n",
    "\n",
    "skewness <- function(x) {\n",
    "  central_moment(x, 3)/(sd(x)^3)\n",
    "}\n",
    "data <-c(4, 4, 4, 4, 4, 4, 3, 3, 3, 3, 2, 2, 2, 1, 1, 0, -1)\n",
    "print(paste(\"Skewness: \", skewness(data)))"
   ],
   "metadata": {
    "collapsed": false
   }
  },
  {
   "cell_type": "markdown",
   "source": [
    "### Kurtosis (kurtoza)\n",
    "###### EN\n",
    "Kurtosis is a measure of the relative heaviness of the tails of a probability distribution.\n",
    "###### PL\n",
    "Kurtosis is a measure of deviation from the shape of the normal distribution.\n",
    "\\begin{equation}\n",
    "g_2 = \\frac{\\sum_{i=1}^{n} (x_i - \\bar{x})^4}{n \\sigma^4}\n",
    "\\end{equation}\n"
   ],
   "metadata": {
    "collapsed": false
   }
  },
  {
   "cell_type": "code",
   "execution_count": 13,
   "outputs": [
    {
     "name": "stdout",
     "output_type": "stream",
     "text": [
      "[1] \"Kurtosis:  2.42620552404742\"\n"
     ]
    }
   ],
   "source": [
    "central_moment <- function(x, k) {\n",
    "  mean((x-mean(x))^k)\n",
    "}\n",
    "\n",
    "kurtosis <- function(x) {\n",
    "  central_moment(x, 4)/(sd(x)^4)\n",
    "}\n",
    "data <-c(4, 4, 4, 4, 4, 4, 3, 3, 3, 3, 2, 2, 2, 1, 1, 0, -1)\n",
    "print(paste(\"Kurtosis: \", kurtosis(data)))"
   ],
   "metadata": {
    "collapsed": false
   }
  },
  {
   "cell_type": "markdown",
   "source": [
    "###"
   ],
   "metadata": {
    "collapsed": false
   }
  },
  {
   "cell_type": "code",
   "execution_count": 14,
   "outputs": [
    {
     "data": {
      "text/plain": "   Min. 1st Qu.  Median    Mean 3rd Qu.    Max. \n -1.000   2.000   3.000   2.529   4.000   4.000 "
     },
     "metadata": {},
     "output_type": "display_data"
    }
   ],
   "source": [
    "data <-c(4, 4, 4, 4, 4, 4, 3, 3, 3, 3, 2, 2, 2, 1, 1, 0, -1)\n",
    "summary(data)"
   ],
   "metadata": {
    "collapsed": false
   }
  }
 ],
 "metadata": {
  "kernelspec": {
   "display_name": "R",
   "language": "R",
   "name": "ir"
  },
  "language_info": {
   "codemirror_mode": "r",
   "file_extension": ".r",
   "mimetype": "text/x-r-source",
   "name": "R",
   "pygments_lexer": "r",
   "version": "4.2.1"
  }
 },
 "nbformat": 4,
 "nbformat_minor": 2
}
